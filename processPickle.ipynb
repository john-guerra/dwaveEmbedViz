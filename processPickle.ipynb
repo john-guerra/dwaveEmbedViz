{
 "metadata": {
  "name": "",
  "signature": "sha256:d6668d1c5b01319458474ce75e26c03394bdd417338ced62f330303988fa6dcb"
 },
 "nbformat": 3,
 "nbformat_minor": 0,
 "worksheets": [
  {
   "cells": [
    {
     "cell_type": "code",
     "collapsed": false,
     "input": [
      "import pickle\n",
      "import json"
     ],
     "language": "python",
     "metadata": {},
     "outputs": [],
     "prompt_number": 2
    },
    {
     "cell_type": "code",
     "collapsed": false,
     "input": [
      "filename = 'embedingData_20spin_nnb.pickle'\n",
      "with open(filename) as f:\n",
      "    chimera_all_d3nodecoords,working_qubits_0based, broken_qubits_0based, all_hardware_edges, J_chainNNB_logical,logical_coords_neat,node_sizes_from_emb, embMin,edges_Jemb,edges_Jij = pickle.load(f)"
     ],
     "language": "python",
     "metadata": {},
     "outputs": [],
     "prompt_number": 3
    },
    {
     "cell_type": "code",
     "collapsed": false,
     "input": [
      "working_qubits_0based "
     ],
     "language": "python",
     "metadata": {},
     "outputs": [
      {
       "metadata": {},
       "output_type": "pyout",
       "prompt_number": 4,
       "text": [
        "array([   0,    1,    2, ..., 1149, 1150, 1151])"
       ]
      }
     ],
     "prompt_number": 4
    },
    {
     "cell_type": "code",
     "collapsed": false,
     "input": [
      "import pickle\n",
      "import json\n",
      "\n",
      "filename = 'embedingData_20spin_nnb.pickle'\n",
      "with open(filename) as f:\n",
      "    chimera_all_d3nodecoords,working_qubits_0based, broken_qubits_0based, all_hardware_edges, J_chainNNB_logical,logical_coords_neat,node_sizes_from_emb, embMin,edges_Jemb,edges_Jij = pickle.load(f)\n",
      "\n",
      "embedDic = {\"chimera_all_d3nodecoords\" : chimera_all_d3nodecoords,\n",
      "\"working_qubits_0based\" : working_qubits_0based,\n",
      "\"broken_qubits_0based\" : broken_qubits_0based,\n",
      "\"all_hardware_edges\" : all_hardware_edges,\n",
      "\"J_chainNNB_logical\" : J_chainNNB_logical,\n",
      "\"logical_coords_neat\" : logical_coords_neat,\n",
      "\"node_sizes_from_emb\" : node_sizes_from_emb,\n",
      "\"embMin\" : embMin,\n",
      "\"edges_Jemb\" : edges_Jemb,\n",
      "\"edges_Jij\" : edges_Jij}\n",
      "\n",
      "def listToString(k):\n",
      "    if type(k) in [type([]), type( () )]: #is a tuple or list?\n",
      "        return \",\".join([str(x) for x in k])\n",
      "    else:\n",
      "        return str(k)\n",
      "\n",
      "#preformat everything into strings\n",
      "for key,val in embedDic.iteritems():\n",
      "#     print key, type(val)\n",
      "    if type(val) == type({}):\n",
      "#         print key, \"dic\"\n",
      "        embedDic[key] = dict([(listToString(k),v) for k,v in val.iteritems()])\n",
      "    else:\n",
      "        embedDic[key] = list(val)\n",
      "\n",
      "#This one requires special processing\n",
      "embedDic[\"logical_coords_neat\"] = dict([(str(k),list(v)) for k,v in logical_coords_neat.iteritems()])\n",
      "\n",
      "open(\"embed.json\", \"w\").write(json.dumps(embedDic))\n",
      "        "
     ],
     "language": "python",
     "metadata": {},
     "outputs": [],
     "prompt_number": 110
    },
    {
     "cell_type": "code",
     "collapsed": false,
     "input": [
      "[ (list(k)) for k in J_chainNNB_logical.keys()]\n",
      "k = J_chainNNB_logical.keys()[0]"
     ],
     "language": "python",
     "metadata": {},
     "outputs": [],
     "prompt_number": 90
    },
    {
     "cell_type": "code",
     "collapsed": false,
     "input": [
      "# \",\".join([str(x) for x in k])\n",
      "type( () )"
     ],
     "language": "python",
     "metadata": {},
     "outputs": [
      {
       "metadata": {},
       "output_type": "pyout",
       "prompt_number": 101,
       "text": [
        "tuple"
       ]
      }
     ],
     "prompt_number": 101
    },
    {
     "cell_type": "code",
     "collapsed": false,
     "input": [],
     "language": "python",
     "metadata": {},
     "outputs": [
      {
       "output_type": "stream",
       "stream": "stdout",
       "text": [
        "J_chainNNB_logical <type 'dict'>\n",
        "J_chainNNB_logical dic\n",
        "chimera_all_d3nodecoords <type 'dict'>\n",
        "chimera_all_d3nodecoords dic\n",
        "edges_Jij <type 'dict'>\n",
        "edges_Jij dic\n",
        "working_qubits_0based <type 'numpy.ndarray'>\n",
        "embMin <type 'list'>\n",
        "edges_Jemb <type 'dict'>\n",
        "edges_Jemb dic\n",
        "all_hardware_edges <type 'set'>\n",
        "broken_qubits_0based <type 'numpy.ndarray'>\n",
        "node_sizes_from_emb <type 'list'>\n",
        "logical_coords_neat <type 'dict'>\n",
        "logical_coords_neat dic\n"
       ]
      }
     ],
     "prompt_number": 104
    },
    {
     "cell_type": "code",
     "collapsed": false,
     "input": [
      "# embedDic[\"logical_coords_neat\"] = dict([(str(k),list(v)) for k,v in logical_coords_neat.iteritems()])\n",
      "\n",
      "# for key,val in embedDic.iteritems():\n",
      "#     print key, type(val)\n",
      "#     json.dumps(val)\n"
     ],
     "language": "python",
     "metadata": {},
     "outputs": [
      {
       "output_type": "stream",
       "stream": "stdout",
       "text": [
        "J_chainNNB_logical <type 'dict'>\n",
        "chimera_all_d3nodecoords <type 'dict'>\n",
        "edges_Jij <type 'dict'>\n",
        "working_qubits_0based <type 'list'>\n",
        "embMin <type 'list'>\n",
        "edges_Jemb <type 'dict'>\n",
        "all_hardware_edges <type 'list'>\n",
        "broken_qubits_0based <type 'list'>\n",
        "node_sizes_from_emb <type 'list'>\n",
        "logical_coords_neat <type 'dict'>\n"
       ]
      }
     ],
     "prompt_number": 66
    },
    {
     "cell_type": "code",
     "collapsed": false,
     "input": [
      "\n"
     ],
     "language": "python",
     "metadata": {},
     "outputs": [],
     "prompt_number": 107
    }
   ],
   "metadata": {}
  }
 ]
}